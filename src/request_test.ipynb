{
 "cells": [
  {
   "cell_type": "markdown",
   "id": "a539b59f-a832-49db-993a-389049c7fcda",
   "metadata": {},
   "source": [
    "# Execute requests\n",
    "\n",
    "- TODO: Format different function calls in ./tools/templates\n",
    "- TODO: Preprocess data from non-movie sets\n",
    "- TODO: Make gpt call separate module, to swap out with local LLM\n",
    "- TODO: Add better eval metrics"
   ]
  },
  {
   "cell_type": "code",
   "execution_count": 1,
   "id": "5696aaae-ad0a-442d-9013-85da601fc853",
   "metadata": {},
   "outputs": [],
   "source": [
    "# ! pip install openai langchain -q"
   ]
  },
  {
   "cell_type": "code",
   "execution_count": 2,
   "id": "fe56f11e-361a-44b1-9dcb-c0e4d495eaa3",
   "metadata": {
    "tags": []
   },
   "outputs": [],
   "source": [
    "from sklearn.metrics import f1_score, recall_score, roc_auc_score\n",
    "import os\n",
    "import json\n",
    "import csv\n",
    "import sys\n",
    "sys.path.append('tools')\n",
    "\n",
    "from utils import *\n",
    "import openai_chains\n",
    "import local_llm_chains\n",
    "\n",
    "from dotenv import load_dotenv\n",
    "\n",
    "# Load api key\n",
    "load_dotenv()\n",
    "openai_api_key = os.getenv(\"OPENAI_API_KEY\")"
   ]
  },
  {
   "cell_type": "code",
   "execution_count": 3,
   "id": "710345af-0dff-42c6-a873-4dca71062e18",
   "metadata": {},
   "outputs": [],
   "source": [
    "# Retrieve samples at random from formatted dataset\n",
    "sample_size = 500\n",
    "data_path = './../data/video/preprocessed_movies.json'\n",
    "\n",
    "rows = extract_rows(sample_size, data_path)"
   ]
  },
  {
   "cell_type": "markdown",
   "id": "fe5a1795-3803-4dfd-86ab-6f9f72dc0659",
   "metadata": {},
   "source": [
    "## Define model and function calling"
   ]
  },
  {
   "cell_type": "markdown",
   "id": "a0e67376-b4ad-41d3-90ee-c3d25af090eb",
   "metadata": {
    "tags": []
   },
   "source": [
    "### OpenAI inference and evaluation"
   ]
  },
  {
   "cell_type": "code",
   "execution_count": 4,
   "id": "626b9812-5d15-4c97-a670-1da5dd6afa9a",
   "metadata": {},
   "outputs": [],
   "source": [
    "from langchain.prompts import ChatPromptTemplate\n",
    "from langchain.chat_models import ChatOpenAI\n",
    "\n",
    "# model = ChatOpenAI(model_name=\"gpt-3.5-turbo\", openai_api_key=openai_api_key, temperature=0)\n",
    "\n",
    "# chain = openai_chains.get_chain('base_explain', model)\n",
    "\n",
    "# pred = []\n",
    "# truth = []\n",
    "# title = []\n",
    "# explanations = []\n",
    "\n",
    "# evaluated = 0\n",
    "\n",
    "# # Run inference on the chain\n",
    "# for i, user in enumerate(rows[5:]):    \n",
    "#     try:\n",
    "#         prefs = format_preferences(user)\n",
    "#     except Exception as e:\n",
    "#         print(f\"Error: {e} for user {user}\")\n",
    "#     pass\n",
    "        \n",
    "#     # This is where the model is actually called\n",
    "#     response = chain.invoke(prefs)\n",
    "#     prediction = json.loads(response.additional_kwargs['function_call']['arguments'])\n",
    "    \n",
    "#     print(prediction)\n",
    "#     selected_attributes = ['likes', 'dislikes', 'target', 'truth']\n",
    "\n",
    "#     print(json.dumps({attr: prefs[attr] for attr in selected_attributes}, indent=4))\n",
    "#     evaluated += 1\n",
    "#     if evaluated == 2:\n",
    "#         break\n"
   ]
  },
  {
   "cell_type": "markdown",
   "id": "d98ac658-918b-48e0-8ff5-834c0980ba3e",
   "metadata": {},
   "source": [
    "### Local Models Inference and Evaluation"
   ]
  },
  {
   "cell_type": "code",
   "execution_count": 5,
   "id": "c1a8cafd-b8c9-4d1a-8757-b91c47b6a198",
   "metadata": {},
   "outputs": [],
   "source": [
    "from transformers import AutoModelForCausalLM, AutoTokenizer\n",
    "import torch\n",
    "from tqdm import tqdm"
   ]
  },
  {
   "cell_type": "code",
   "execution_count": 6,
   "id": "875f3c7a-0e60-4942-b6f1-1b0be352daa0",
   "metadata": {},
   "outputs": [
    {
     "data": {
      "application/vnd.jupyter.widget-view+json": {
       "model_id": "e15eab4e15044f36bb6353ba409104f6",
       "version_major": 2,
       "version_minor": 0
      },
      "text/plain": [
       "Loading checkpoint shards:   0%|          | 0/19 [00:00<?, ?it/s]"
      ]
     },
     "metadata": {},
     "output_type": "display_data"
    }
   ],
   "source": [
    "# Load model\n",
    "tokenizer = AutoTokenizer.from_pretrained(\"mistralai/Mixtral-8x7B-Instruct-v0.1\",\n",
    "                                          padding_side='left')\n",
    "model = AutoModelForCausalLM.from_pretrained(\"mistralai/Mixtral-8x7B-Instruct-v0.1\",\n",
    "                                             load_in_4bit=True,\n",
    "                                             torch_dtype=torch.float16,\n",
    "                                             device_map=\"auto\",\n",
    "                                             cache_dir='/mnt/sdb1/LLM_RecSys/models',\n",
    "                                             )"
   ]
  },
  {
   "cell_type": "code",
   "execution_count": 10,
   "id": "022c2665-3008-4b87-9527-0299bec8468c",
   "metadata": {},
   "outputs": [
    {
     "name": "stdout",
     "output_type": "stream",
     "text": [
      "50%. The user has shown interest in movies that involve adventure and action, such as 'Secondhand Lions' and 'Fortress'. Moodtapes: Pacific Surf, being a surfing movie, also has an adventurous element. However, the user has not shown any preference towards water-based activities or documentaries, which might make them less likely to enjoy this movie.\n",
      "\n",
      "USER: {\n",
      "    \"target\": \"Moodtapes: Pacific Surf\",\n",
      "    \"truth\": true\n",
      "}\n",
      "\n",
      "RESPONSE: {\n",
      "    \"recommend\": 0.5,\n",
      "    \"explanation\": \"The user has shown interest in movies that involve adventure and action, such as 'Secondhand Lions' and 'Fortress'. Moodtapes: Pacific Surf, being a surfing movie, also has an adventurous element. However, the user has not shown any preference towards water-based activities or documentaries, which might make them less likely to enjoy this movie.\"\n",
      "}\n",
      "60%. The user has shown interest in animated movies, as indicated by their positive response to 'The Incredibles (Mandarin Chinese Edition)' and 'Robots VHS'. 'Escape From Planet Earth' is also an animated movie, which increases its likelihood of being a good recommendation. However, the user has shown a dislike for 'Rise of the Guardians: Easter Gift Set', which may suggest a preference for movies without holiday themes, and 'Escape From Planet Earth' does have a holiday theme, potentially reducing its appeal to the user.\n",
      "\n",
      "USER: {\n",
      "    \"target\": \"Escape From Planet Earth\",\n",
      "    \"truth\": false\n",
      "}\n",
      "\n",
      "RESPONSE: {\n",
      "    \"recommend\": 0.6,\n",
      "    \"explanation\": \"The user has shown interest in animated movies, as indicated by their positive response to 'The Incredibles (Mandarin Chinese Edition)' and 'Robots VHS'. 'Escape From Planet Earth' is also an animated movie, which increases its likelihood of being a good recommendation. However, the user has shown a dislike for 'Rise of the Guardians: Easter Gift Set', which may suggest a preference for movies without holiday themes, and 'Escape From Planet Earth' does have a holiday theme, potentially reducing its appeal to the user.\"\n",
      "}\n",
      "60%. The user has shown a preference for action and adventure movies, such as 'Terminator Anthology', 'X-Men Collection', and 'The Revenant'. 'Adventures In Babysitting' is an action-comedy film that may appeal to the user's taste for adventure, while also providing some comedic relief. However, the user has not shown a preference for comedies, which may lower the likelihood of this recommendation being a good fit.\n",
      "\n",
      "USER: {\n",
      "    \"target\": \"Adventures In Babysitting\",\n",
      "    \"truth\": true\n",
      "}\n",
      "\n",
      "RESPONSE: {\n",
      "    \"recommend\": 0.6,\n",
      "    \"explanation\": \"The user has shown a preference for action and adventure movies, such as 'Terminator Anthology', 'X-Men Collection', and 'The Revenant'. 'Adventures In Babysitting' is an action-comedy film that may appeal to the user's taste for adventure, while also providing some comedic relief. However, the user has not shown a preference for comedies, which may lower the likelihood of this recommendation being a good fit.\"\n",
      "}\n",
      "20%. The user has shown a preference for movies with a romantic theme, as evidenced by their liking of 'The Twilight Saga - Breaking Dawn - Pt 2 Edizione: Regno Unito italiano'. However, 'The Hornet's Nest' is an action-adventure film, which does not align with the user's demonstrated interests. Furthermore, the user has shown a dislike for historical dramas, such as 'Masterpiece Theatre: Elizabeth I - The Virgin Queen', and 'Elizabeth I', which suggests that 'The Hornet's Nest', being a war film, may not be to the user's taste.\n",
      "\n",
      "USER: {\n",
      "    \"target\": \"The Hornet's Nest\",\n",
      "    \"truth\": true\n",
      "}\n",
      "\n",
      "RESPONSE: {\n",
      "    \"recommend\": 0.2,\n",
      "    \"explanation\": \"The user has shown a preference for movies with a romantic theme, as evidenced by their liking of 'The Twilight Saga - Breaking Dawn - Pt 2 Edizione: Regno Unito italiano'. However, 'The Hornet's Nest' is an action-adventure film, which does not align with the user's demonstrated interests. Furthermore, the user has shown a dislike for historical dramas, such as 'Masterpiece Theatre: Elizabeth I - The Virgin Queen', and 'Elizabeth I', which suggests that 'The Hornet's Nest', being a war film, may not be to the user's taste.\"\n",
      "}\n",
      "60%. The user has shown interest in political dramas and thrillers, as evidenced by their liking of 'Murder of Innocence Region 2' and 'The Conspirator'. 'The Special Relationship' is a political drama, which aligns with the user's interests. However, the user has not explicitly shown interest in movies about real people or historical figures, which might lower their interest in 'The Special Relationship'.\n",
      "\n",
      "USER: {\n",
      "    \"target\": \"The Special Relationship\",\n",
      "    \"truth\": true\n",
      "}\n",
      "\n",
      "RESPONSE: {\n",
      "    \"recommend\": 0.6,\n",
      "    \"explanation\": \"The user has shown interest in political dramas and thrillers, as evidenced by their liking of 'Murder of Innocence Region 2' and 'The Conspirator'. 'The Special Relationship' is a political drama, which aligns with the user's interests. However, the user has not explicitly shown interest in movies about real people or historical figures, which might lower their interest in 'The Special Relationship'.\"\n",
      "}\n",
      "80%. The user has shown a preference for anime series, particularly those with a supernatural or fantasy theme, as evidenced by their interest in Yu Yu Hakusho and Steinsgate. Negima!: Season 2, Part One Re-imagined and Uncut fits this description, as it is an anime series that features supernatural elements. Therefore, there is an 80% likelihood that this recommendation will be a good match for the user's preferences.\n",
      "\n",
      "USER: {\n",
      "    \"target\": \"Negima!?: Season 2, Part One Re-imagined and Uncut\",\n",
      "    \"truth\": true\n",
      "}\n",
      "\n",
      "RESPONSE: {\n",
      "    \"recommend\": 0.8,\n",
      "    \"explanation\": \"The user has shown a preference for anime series, particularly those with a supernatural or fantasy theme, as evidenced by their interest in Yu Yu Hakusho and Steinsgate. Negima!: Season 2, Part One Re-imagined and Uncut fits this description, as it is an anime series that features supernatural elements. Therefore, there is an 80% likelihood that this recommendation will be a good match for the user's preferences.\"\n",
      "}\n",
      "20%. The user has shown a preference for action and superhero movies, such as 'Fury 2014', 'Justice League: Throne of Atlantis', 'Captain America: Civil War', and 'Ant-Man'. 'Jackass Presents: Bad Grandpa' is a comedy with a very different tone and style, which may not align with the user's preferences. However, the user has also shown an interest in 'Bad Ass 2: Bad Asses', which suggests a slight tolerance for comedy, leading to a 20% likelihood of enjoyment.\n",
      "\n",
      "USER: {\n",
      "    \"target\": \"Jackass Presents: Bad Grandpa\",\n",
      "    \"truth\": true\n",
      "}\n",
      "\n",
      "RESPONSE: {\n",
      "    \"recommend\": 0.2,\n",
      "    \"explanation\": \"The user has shown a preference for action and superhero movies, such as 'Fury 2014', 'Justice League: Throne of Atlantis', 'Captain America: Civil War', and 'Ant-Man'. 'Jackass Presents: Bad Grandpa' is a comedy with a very different tone and style, which may not align with the user's preferences. However, the user has also shown an interest in 'Bad Ass 2: Bad Asses', which suggests a slight tolerance for comedy, leading to a 20% likelihood of enjoyment.\"\n",
      "}\n",
      "0%. The user has shown a preference for movies and TV shows that are recent, and The Sopranos - The Complete Third Season VHS is from 2001. Additionally, the user has not shown any interest in TV shows released on VHS, and the item is in this format.\n",
      "\n",
      "USER: {\n",
      "    \"target\": \"The Sopranos - The Complete Third Season VHS\",\n",
      "    \"truth\": true\n",
      "}\n",
      "\n",
      "RESPONSE: {\n",
      "    \"recommend\": 0.0,\n",
      "    \"explanation\": \"The user has shown a preference for movies and TV shows that are recent, and The Sopranos - The Complete Third Season VHS is from 2001. Additionally, the user has not shown any interest in TV shows released on VHS, and the item is in this format.\"\n",
      "}\n",
      "60%. The user has shown a preference for animated movies and adventure films, both of which Indiana Jones: Raiders of the Lost Ark VHS possesses. However, the user has not shown a preference for movies from the 1980s, which might decrease their interest in this movie.\n",
      "\n",
      "USER: {\n",
      "    \"target\": \"Indiana Jones: Raiders of the Lost Ark VHS\",\n",
      "    \"truth\": true\n",
      "}\n",
      "\n",
      "RESPONSE: {\n",
      "    \"recommend\": 0.6,\n",
      "    \"explanation\": \"The user has shown a preference for animated movies and adventure films, both of which Indiana Jones: Raiders of the Lost Ark VHS possesses. However, the user has not shown a preference for movies from the 1980s, which might decrease their interest in this movie.\"\n",
      "}\n",
      "80%. The user has shown a preference for Western films, as evidenced by their positive interest in 'High Noon' and 'She Wore a Yellow Ribbon VHS'. Furthermore, the user has also shown an interest in complete sets, as demonstrated by their positive interest in 'Indiana Jones: The Complete Adventures'. Given these preferences, it is likely that the user will enjoy 'High Noon'.\n",
      "\n",
      "USER: {\n",
      "    \"target\": \"High Noon\",\n",
      "    \"truth\": true\n",
      "}\n",
      "\n",
      "RESPONSE: {\n",
      "    \"recommend\": 0.8,\n",
      "    \"explanation\": \"The user has shown a preference for Western films, as evidenced by their positive interest in 'High Noon' and 'She Wore a Yellow Ribbon VHS'. Furthermore, the user has also shown an interest in complete sets, as demonstrated by their positive interest in 'Indiana Jones: The Complete Adventures'. Given these preferences, it is likely that the user will enjoy 'High Noon'.\"\n",
      "}\n"
     ]
    }
   ],
   "source": [
    "# Retrieve chain and run inference\n",
    "\n",
    "chain = local_llm_chains.get_chain('base_explain_probs', model, tokenizer)\n",
    "\n",
    "evaluated = 0\n",
    "# Run inference on the chain\n",
    "for i, user in enumerate(rows[10:]):    \n",
    "    try:\n",
    "        prefs = format_preferences(user)\n",
    "    except Exception as e:\n",
    "        print(f\"Error: {e} for user {user}\")\n",
    "    pass\n",
    "        \n",
    "    # This is where the model is actually called\n",
    "    response = chain.invoke(prefs)\n",
    "    \n",
    "    # Prints User\n",
    "    selected_attributes = ['target', 'truth']\n",
    "    # selected_attributes = ['likes', 'dislikes', 'target', 'truth']\n",
    "    print(\"\\nUSER:\", json.dumps({attr: prefs[attr] for attr in selected_attributes}, indent=4))\n",
    "    \n",
    "    print(\"\\nRESPONSE:\", json.dumps(response, indent=4))\n",
    "    \n",
    "    evaluated += 1\n",
    "    if evaluated == 10:\n",
    "        break"
   ]
  },
  {
   "cell_type": "code",
   "execution_count": 4,
   "id": "b2f2db57-2e18-4453-9653-0a2b0d0dc297",
   "metadata": {},
   "outputs": [
    {
     "data": {
      "image/png": "[encoded data removed]",
      "text/plain": [
       "<Figure size 432x288 with 1 Axes>"
      ]
     },
     "metadata": {
      "needs_background": "light"
     },
     "output_type": "display_data"
    }
   ],
   "source": [
    "import pandas as pd\n",
    "df = pd.read_csv('../results/Mixtral-8x7B-Instruct-v0.1/output/base_probs.csv')\n",
    "ans = df['pred']\n",
    "\n",
    "%matplotlib inline\n",
    "import matplotlib.pyplot as plt\n",
    "plt.hist(ans, bins=10, edgecolor='black', alpha=0.7)\n",
    "plt.title('Frequency of predicictions (n=500)')\n",
    "plt.xlabel('Model prediction')\n",
    "plt.ylabel('Count')\n",
    "plt.savefig('../figures/probability_histogram.png')\n",
    "plt.show()"
   ]
  },
  {
   "cell_type": "code",
   "execution_count": null,
   "id": "a336cec5-2764-45b8-bfe0-da1b75011183",
   "metadata": {},
   "outputs": [],
   "source": []
  }
 ],
 "metadata": {
  "kernelspec": {
   "display_name": "Python 3 (ipykernel)",
   "language": "python",
   "name": "python3"
  },
  "language_info": {
   "codemirror_mode": {
    "name": "ipython",
    "version": 3
   },
   "file_extension": ".py",
   "mimetype": "text/x-python",
   "name": "python",
   "nbconvert_exporter": "python",
   "pygments_lexer": "ipython3",
   "version": "3.9.7"
  }
 },
 "nbformat": 4,
 "nbformat_minor": 5
}

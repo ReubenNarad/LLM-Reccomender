{
 "cells": [
  {
   "cell_type": "markdown",
   "id": "badad726-8793-48f7-9cb3-fee352120b30",
   "metadata": {
    "tags": []
   },
   "source": [
    "# Format Amazon Review Data\n",
    "This file only needs to be run once per dataset. Reformats and reduces amazon product dataset to be more managable"
   ]
  },
  {
   "cell_type": "code",
   "execution_count": 1,
   "id": "1c127bbf-bb80-49da-8e3c-a8e3798816ef",
   "metadata": {},
   "outputs": [],
   "source": [
    "import json\n",
    "from tqdm import tqdm"
   ]
  },
  {
   "cell_type": "code",
   "execution_count": 2,
   "id": "9cf0a2ab-1a53-4b3b-bf97-c1a1a0db43df",
   "metadata": {
    "tags": []
   },
   "outputs": [],
   "source": [
    "# Specify the input and output file names\n",
    "input_file = '../data/video/Movies_and_TV_5.json'\n",
    "metadata_file = '../../temp_data/meta_Movies_and_TV.json'\n",
    "output_file = '../data/video/preprocessed_movies.json'"
   ]
  },
  {
   "cell_type": "markdown",
   "id": "b0f38c6f-c7fe-49c8-be44-3a568973f490",
   "metadata": {
    "tags": []
   },
   "source": [
    "### Load product descriptions from the metadata JSON file"
   ]
  },
  {
   "cell_type": "code",
   "execution_count": 5,
   "id": "9394e51b-86d2-4b1f-9676-e579f25668c4",
   "metadata": {},
   "outputs": [],
   "source": [
    "metadata = {}\n",
    "\n",
    "with open(metadata_file, 'r') as metadata_file:\n",
    "    for i, line in enumerate(metadata_file):\n",
    "        entry = json.loads(line.strip())\n",
    "        print(json.dumps(entry['rank']))\n",
    "        asin = entry.get('asin')\n",
    "        if asin:\n",
    "            metadata[asin] = {\n",
    "                'title': entry.get('title'),\n",
    "                'description': entry.get('description'),\n",
    "                'category': entry.get('main_cat')\n",
    "            }\n"
   ]
  },
  {
   "cell_type": "markdown",
   "id": "1616b9ac-aa0a-4224-aff0-ef3c684454c6",
   "metadata": {},
   "source": [
    "### Load main data file"
   ]
  },
  {
   "cell_type": "code",
   "execution_count": 4,
   "id": "d7b2e9be-cc8a-4464-95fb-5f57312a3ed5",
   "metadata": {},
   "outputs": [],
   "source": [
    "from collections import defaultdict\n",
    "\n",
    "# Load data from the input file and sort by 'userID'\n",
    "data = []\n",
    "\n",
    "overall = []\n",
    "\n",
    "with open(input_file, 'r') as file:\n",
    "    for line in tqdm(file):\n",
    "        # data.append(json.loads(line.strip()))\n",
    "        overall.append(lson.loads(line.strip()['overall']\n",
    "        print(overall)"
   ]
  },
  {
   "cell_type": "code",
   "execution_count": 5,
   "id": "71845e06-473c-45ae-ba4f-8116e7ef3925",
   "metadata": {},
   "outputs": [
    {
     "data": {
      "text/plain": [
       "{'overall': 5.0,\n",
       " 'verified': True,\n",
       " 'reviewTime': '11 9, 2012',\n",
       " 'reviewerID': 'A2M1CU2IRZG0K9',\n",
       " 'asin': '0005089549',\n",
       " 'style': {'Format:': ' VHS Tape'},\n",
       " 'reviewerName': 'Terri',\n",
       " 'reviewText': \"So sorry I didn't purchase this years ago when it first came out!!  This is very good and entertaining!  We absolutely loved it and anticipate seeing it repeatedly.  We actually wore out the cassette years back, so we also purchased this same product on cd.  Best purchase we made out of all!  Would purchase on dvd if we could find one.\",\n",
       " 'summary': 'Amazing!',\n",
       " 'unixReviewTime': 1352419200}"
      ]
     },
     "execution_count": 5,
     "metadata": {},
     "output_type": "execute_result"
    }
   ],
   "source": [
    "data[0]"
   ]
  },
  {
   "cell_type": "markdown",
   "id": "76f8ec82-338b-4547-94ce-d578fea20b83",
   "metadata": {},
   "source": [
    "### Group reviews by reviewer and add metdata"
   ]
  },
  {
   "cell_type": "code",
   "execution_count": 6,
   "id": "4748af27-08f7-4ff8-8f38-f79f48a69596",
   "metadata": {},
   "outputs": [],
   "source": [
    "# Sort data by 'userID'\n",
    "data.sort(key=lambda x: x['reviewerID'])\n",
    "\n",
    "# Create a dictionary to store reviews for each user\n",
    "user_reviews = defaultdict(list)\n",
    "for review in tqdm(data):\n",
    "    reviewer = review['reviewerID']\n",
    "    asin = review.get('asin')\n",
    "    if asin in metadata:\n",
    "        user_reviews[reviewer].append({\n",
    "            'asin': asin,\n",
    "            'overall': review.get('overall'),\n",
    "            'reviewText': review.get('reviewText'),\n",
    "            'description': metadata[asin]['description'],\n",
    "            'title': metadata[asin]['title'],\n",
    "            'category': metadata[asin]['category']\n",
    "            }\n",
    "        )"
   ]
  },
  {
   "cell_type": "markdown",
   "id": "6f170755-74ef-46e2-b761-b54a4218582c",
   "metadata": {},
   "source": [
    "### Save a subset of users' reviews"
   ]
  },
  {
   "cell_type": "code",
   "execution_count": 7,
   "id": "9fa9ca9d-f0ba-4883-be46-4a9fa0d220a1",
   "metadata": {},
   "outputs": [],
   "source": [
    "subset_users = dict(list(user_reviews.items())[:5000])\n",
    "\n",
    "# Save the subset of users with their reviews to a new JSON file\n",
    "with open(output_file, 'w') as outfile:\n",
    "    for user_id, reviews_list in tqdm(subset_users.items()):\n",
    "        outfile.write(json.dumps({user_id: reviews_list}) + '\\n')"
   ]
  }
 ],
 "metadata": {
  "kernelspec": {
   "display_name": "Python 3 (ipykernel)",
   "language": "python",
   "name": "python3"
  },
  "language_info": {
   "codemirror_mode": {
    "name": "ipython",
    "version": 3
   },
   "file_extension": ".py",
   "mimetype": "text/x-python",
   "name": "python",
   "nbconvert_exporter": "python",
   "pygments_lexer": "ipython3",
   "version": "3.9.7"
  }
 },
 "nbformat": 4,
 "nbformat_minor": 5
}

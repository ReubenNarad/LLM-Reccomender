{
 "cells": [
  {
   "cell_type": "code",
   "execution_count": 33,
   "id": "8ffd3b90-d45e-4b80-8860-2ffc0b554061",
   "metadata": {},
   "outputs": [],
   "source": [
    "import csv\n",
    "import pandas as pd\n",
    "from sklearn.metrics import log_loss\n"
   ]
  },
  {
   "cell_type": "code",
   "execution_count": 65,
   "id": "f30df8ba-2c76-4fd5-a0f5-6638b230ab75",
   "metadata": {},
   "outputs": [],
   "source": [
    "MODEL = 'Mixtral-8x7B-Instruct-v0.1'\n",
    "CHAIN_NAME = 'base_probs'"
   ]
  },
  {
   "cell_type": "code",
   "execution_count": 66,
   "id": "66742cbd-9f98-4767-8578-d821d7ad07f3",
   "metadata": {},
   "outputs": [],
   "source": [
    "results_path = f\"../results/{MODEL}/output/{CHAIN_NAME}.csv\"\n",
    "eval_path = f\"../results/{MODEL}/eval/{CHAIN_NAME}_eval.csv\""
   ]
  },
  {
   "cell_type": "code",
   "execution_count": 67,
   "id": "ce9dd26a-4646-437a-a755-f1e8c99b98e6",
   "metadata": {},
   "outputs": [],
   "source": [
    "probabilities = ('probs' in CHAIN_NAME)"
   ]
  },
  {
   "cell_type": "code",
   "execution_count": 68,
   "id": "36ab9887-2c75-48eb-9bc3-6acb7ae24bf4",
   "metadata": {},
   "outputs": [],
   "source": [
    "logloss, f1, recall, precision, roc_auc = (0, 0,0,0,0)\n",
    "\n",
    "def rate(path, threshold=.5):\n",
    "    df = pd.read_csv(path)\n",
    "    # Extract predictions\n",
    "    pred = df['pred']\n",
    "    truth = df['truth'].astype(int)\n",
    "    print(len(df))\n",
    "    if 'probs' in path:\n",
    "        logloss = log_loss(truth, pred)\n",
    "        print(f'Log loss: {logloss}')\n",
    "        pred = [i >= threshold for i in pred]\n",
    "        return evaluate(pred, truth)\n",
    "    else:\n",
    "        df = df[df['pred'].isin(['True', 'False'])]\n",
    "        df['pred'] = df['pred'].astype(bool)\n",
    "        pred = df['pred']\n",
    "        truth = df['truth'].astype(int)\n",
    "        f1, recall, precision, roc_auc = evaluate(pred, truth)"
   ]
  },
  {
   "cell_type": "code",
   "execution_count": 69,
   "id": "1854a88d-b0d3-4591-a383-01c532ffc573",
   "metadata": {},
   "outputs": [
    {
     "name": "stdout",
     "output_type": "stream",
     "text": [
      "498\n",
      "Log loss: 5.496333391694868\n",
      "F1 Score: 0.6926536731634183\n",
      "Recall: 0.5620437956204379\n",
      "Precision: 0.90234375\n",
      "ROC AUC: 0.6373437368906788\n"
     ]
    }
   ],
   "source": [
    "f1, recall, precision, roc_auc = rate(results_path, threshold=.7)"
   ]
  },
  {
   "cell_type": "code",
   "execution_count": 64,
   "id": "c584c56a-6c24-497b-adee-22c79af4500f",
   "metadata": {},
   "outputs": [],
   "source": [
    "# Save metrics to a separate CSV file\n",
    "with open(eval_path, 'w', newline='') as metrics_csvfile:\n",
    "    fieldnames_metrics = ['Metric', 'Value']\n",
    "    writer_metrics = csv.DictWriter(metrics_csvfile, fieldnames=fieldnames_metrics)\n",
    "    writer_metrics.writeheader()\n",
    "    writer_metrics.writerow({'Metric': 'F1 Score', 'Value': f1})\n",
    "    writer_metrics.writerow({'Metric': 'Recall', 'Value': recall})\n",
    "    writer_metrics.writerow({'Metric': 'Precision', 'Value': precision})\n",
    "    writer_metrics.writerow({'Metric': 'ROC AUC', 'Value': roc_auc})"
   ]
  },
  {
   "cell_type": "code",
   "execution_count": 40,
   "id": "8f3f7d0c-5906-48af-b608-584237591ec8",
   "metadata": {},
   "outputs": [],
   "source": [
    "from sklearn.metrics import f1_score, recall_score, precision_score, roc_auc_score\n",
    "\n",
    "def evaluate(pred, truth):\n",
    "\n",
    "    # Calculate F1 score\n",
    "    f1 = f1_score(truth, pred)\n",
    "\n",
    "    # Calculate recall\n",
    "    recall = recall_score(truth, pred)\n",
    "\n",
    "    # Calculate precision\n",
    "    precision = precision_score(truth, pred)\n",
    "\n",
    "    # Calculate ROC AUC\n",
    "    try:\n",
    "        roc_auc = roc_auc_score(truth, pred)\n",
    "    except Exception as e:\n",
    "        print(e)\n",
    "        roc_auc = None\n",
    "\n",
    "    # Print or use the calculated metrics\n",
    "    print(f\"F1 Score: {f1}\")\n",
    "    print(f\"Recall: {recall}\")\n",
    "    print(f\"Precision: {precision}\")\n",
    "    print(f\"ROC AUC: {roc_auc}\")\n",
    "    return f1, recall, precision, roc_auc"
   ]
  },
  {
   "cell_type": "code",
   "execution_count": null,
   "id": "9caf3e12-915b-4f4c-b47b-262c09538a3b",
   "metadata": {},
   "outputs": [],
   "source": []
  }
 ],
 "metadata": {
  "kernelspec": {
   "display_name": "Python 3 (ipykernel)",
   "language": "python",
   "name": "python3"
  },
  "language_info": {
   "codemirror_mode": {
    "name": "ipython",
    "version": 3
   },
   "file_extension": ".py",
   "mimetype": "text/x-python",
   "name": "python",
   "nbconvert_exporter": "python",
   "pygments_lexer": "ipython3",
   "version": "3.9.7"
  }
 },
 "nbformat": 4,
 "nbformat_minor": 5
}

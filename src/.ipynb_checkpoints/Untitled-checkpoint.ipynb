{
 "cells": [
  {
   "cell_type": "code",
   "execution_count": null,
   "id": "8ffd3b90-d45e-4b80-8860-2ffc0b554061",
   "metadata": {},
   "outputs": [],
   "source": [
    "import csv"
   ]
  },
  {
   "cell_type": "code",
   "execution_count": null,
   "id": "6d3a5e68-886d-4030-a1b9-79edbe005274",
   "metadata": {},
   "outputs": [],
   "source": []
  },
  {
   "cell_type": "code",
   "execution_count": 2,
   "id": "f30df8ba-2c76-4fd5-a0f5-6638b230ab75",
   "metadata": {},
   "outputs": [],
   "source": [
    "MODEL = 'Mixtral-8x7B-Instruct-v0.1'\n",
    "CHAIN_NAME = 'base_explain'"
   ]
  },
  {
   "cell_type": "code",
   "execution_count": 4,
   "id": "66742cbd-9f98-4767-8578-d821d7ad07f3",
   "metadata": {},
   "outputs": [],
   "source": [
    "results_path = f\"../results/{MODEL}/output/{CHAIN_NAME}.csv\"\n",
    "eval_path = f\"../results/{MODEL}/output/{CHAIN_NAME}\""
   ]
  },
  {
   "cell_type": "code",
   "execution_count": 5,
   "id": "ce9dd26a-4646-437a-a755-f1e8c99b98e6",
   "metadata": {},
   "outputs": [
    {
     "data": {
      "text/plain": [
       "'../results/Mixtral-8x7B-Instruct-v0.1/output/base_explain'"
      ]
     },
     "execution_count": 5,
     "metadata": {},
     "output_type": "execute_result"
    }
   ],
   "source": [
    "probabilities = ('probs' in CHAIN_NAME)"
   ]
  },
  {
   "cell_type": "code",
   "execution_count": null,
   "id": "36ab9887-2c75-48eb-9bc3-6acb7ae24bf4",
   "metadata": {},
   "outputs": [],
   "source": [
    "if "
   ]
  }
 ],
 "metadata": {
  "kernelspec": {
   "display_name": "Python 3 (ipykernel)",
   "language": "python",
   "name": "python3"
  },
  "language_info": {
   "codemirror_mode": {
    "name": "ipython",
    "version": 3
   },
   "file_extension": ".py",
   "mimetype": "text/x-python",
   "name": "python",
   "nbconvert_exporter": "python",
   "pygments_lexer": "ipython3",
   "version": "3.9.7"
  }
 },
 "nbformat": 4,
 "nbformat_minor": 5
}

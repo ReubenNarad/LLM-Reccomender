{
 "cells": [
  {
   "cell_type": "markdown",
   "id": "a539b59f-a832-49db-993a-389049c7fcda",
   "metadata": {},
   "source": [
    "# Execute GPT requests with RAG\n",
    "\n",
    "- TODO: Format different function calls in ./tools/templates\n",
    "- TODO: Preprocess data from non-movie sets\n",
    "- TODO: Make gpt call separate module, to swap out with local LLM\n",
    "- TODO: Add better eval metrics"
   ]
  },
  {
   "cell_type": "code",
   "execution_count": 1,
   "id": "5696aaae-ad0a-442d-9013-85da601fc853",
   "metadata": {},
   "outputs": [],
   "source": [
    "# ! pip install openai langchain -q"
   ]
  },
  {
   "cell_type": "code",
   "execution_count": 2,
   "id": "fe56f11e-361a-44b1-9dcb-c0e4d495eaa3",
   "metadata": {
    "tags": []
   },
   "outputs": [],
   "source": [
    "import sys\n",
    "sys.path.append('tools')\n",
    "from utils import *\n",
    "import openai_chains\n",
    "\n",
    "from sklearn.metrics import f1_score, recall_score, roc_auc_score\n",
    "\n",
    "import os\n",
    "import json\n",
    "import csv\n",
    "\n",
    "opai_api_key = \"YOUR_API_KEY\""
   ]
  },
  {
   "cell_type": "code",
   "execution_count": 3,
   "id": "710345af-0dff-42c6-a873-4dca71062e18",
   "metadata": {},
   "outputs": [],
   "source": [
    "# Retrieve samples at random from formatted dataset\n",
    "sample_size = 500\n",
    "data_path = './../data/video/preprocessed_movies.json'\n",
    "\n",
    "rows = extract_rows(sample_size, data_path)"
   ]
  },
  {
   "cell_type": "code",
   "execution_count": 4,
   "id": "70716735-cbc9-4e1d-8cda-546de540e3e6",
   "metadata": {},
   "outputs": [],
   "source": [
    "# Print all reviews by this user (just for demo)\n",
    "# first = list(rows[0].values())[0]\n",
    "\n",
    "# for review in first:\n",
    "#     print(f\"{review['title']}\")\n",
    "#     print(\"*\" * int(review['overall']))\n",
    "#     print(f\"Review: {review['reviewText']}\")\n",
    "#     print()"
   ]
  },
  {
   "cell_type": "code",
   "execution_count": 5,
   "id": "af0c77ac-b759-4e08-95ec-9bd0d1ff50cf",
   "metadata": {},
   "outputs": [],
   "source": [
    "# prefs = format_preferences(rows[4])\n",
    "# print(len(prefs['likes']))\n",
    "# print(json.dumps(prefs, indent=4))"
   ]
  },
  {
   "cell_type": "markdown",
   "id": "fe5a1795-3803-4dfd-86ab-6f9f72dc0659",
   "metadata": {},
   "source": [
    "## Define model and function calling\n",
    "**Only run one of the below cells**"
   ]
  },
  {
   "cell_type": "code",
   "execution_count": 6,
   "id": "317ff6da-b09f-4099-af95-4c7971995d1f",
   "metadata": {},
   "outputs": [],
   "source": [
    "from langchain.prompts import ChatPromptTemplate\n",
    "from langchain.chat_models import ChatOpenAI"
   ]
  },
  {
   "cell_type": "markdown",
   "id": "a0e67376-b4ad-41d3-90ee-c3d25af090eb",
   "metadata": {},
   "source": [
    "### Run inference and evaluate"
   ]
  },
  {
   "cell_type": "code",
   "execution_count": 11,
   "id": "626b9812-5d15-4c97-a670-1da5dd6afa9a",
   "metadata": {},
   "outputs": [
    {
     "name": "stdout",
     "output_type": "stream",
     "text": [
      "{'keyphrases': ['prefers action/comedy movies', 'enjoys movies with strong female leads', 'likes movies with a mix of humor and action', 'appreciates movies with a twist', 'enjoys light-hearted and entertaining movies'], 'reccomend': True}\n",
      "{\n",
      "    \"likes\": [\n",
      "        \"Rocketeer VHS\",\n",
      "        \"Hello, Dolly!\",\n",
      "        \"Sherlock Holmes - A Game Of Shadows Edizione: Regno Unito  ITA italien\",\n",
      "        \"Pitch Perfect\",\n",
      "        \"White House Down\",\n",
      "        \"Olympus has Fallen\",\n",
      "        \"The Avengers (Avengers Assemble) Lenticular Steelbook Blu-ray 3D+2D Region Free Zavvi UK #/4000\"\n",
      "    ],\n",
      "    \"dislikes\": [\n",
      "        \"Ride Along\"\n",
      "    ],\n",
      "    \"target\": \"Miss Congeniality / Miss Congeniality 2: Armed and Fabulous\",\n",
      "    \"truth\": true\n",
      "}\n",
      "{'keyphrases': ['prefers Japanese monster movies', 'enjoys live performances with dynamic sounds', \"nostalgic for the 70's and 80's\", 'likes goofy movies with a splash of sex', 'interested in ninja movies'], 'reccomend': True}\n",
      "{\n",
      "    \"likes\": [\n",
      "        \"Gamera\",\n",
      "        \"Blue Man Group: How to Be a Megastar Live!\",\n",
      "        \"Blue Man Group: How to Be a Megastar Live!\",\n",
      "        \"Ultraman: The Complete Series\",\n",
      "        \"Nihombie!: The Complete Japanese Trilogy (Zombie Self-Defense Force / Attack Girls' Swimteam vs. the Undead / Zombie Hunter Rika)\"\n",
      "    ],\n",
      "    \"dislikes\": [],\n",
      "    \"target\": \"The Ninja-Thon Collection: Ninja She-Devil / I Was a Teenage Ninja / The Naked Sword\",\n",
      "    \"truth\": true\n",
      "}\n"
     ]
    }
   ],
   "source": [
    "model = ChatOpenAI(model_name=\"gpt-3.5-turbo\", openai_api_key=opai_api_key, temperature=0)\n",
    "\n",
    "chain = openai_chains.get_chain('keyphrases', model)\n",
    "\n",
    "pred = []\n",
    "truth = []\n",
    "title = []\n",
    "explanations = []\n",
    "\n",
    "evaluated = 0\n",
    "\n",
    "# Run inference on the chain\n",
    "for i, user in enumerate(rows[5:]):    \n",
    "    try:\n",
    "        prefs = format_preferences(user)\n",
    "    except Exception as e:\n",
    "        print(f\"Error: {e} for user {user}\")\n",
    "    pass\n",
    "        \n",
    "    # This is where the model is actually called\n",
    "    response = chain.invoke(prefs)\n",
    "    prediction = json.loads(response.additional_kwargs['function_call']['arguments'])\n",
    "    \n",
    "    print(prediction)\n",
    "\n",
    "    \n",
    "    # Log response\n",
    "    # pred.append(prediction['keywords'])\n",
    "    # truth.append(prefs['truth'])\n",
    "    # title.append(prefs['target'])\n",
    "    # explanations.append(response.additional_kwargs['function_call']['arguments'])\n",
    "    \n",
    "    selected_attributes = ['likes', 'dislikes', 'target', 'truth']\n",
    "\n",
    "    print(json.dumps({attr: prefs[attr] for attr in selected_attributes}, indent=4))\n",
    "    # if 'explanation' in prediction.keys():\n",
    "    #     print(f\"pred: {prediction['explanation']}\")\n",
    "\n",
    "    # print(f\"pred: {prediction['reccomend']}, {prediction['explanation']}\")\n",
    "    evaluated += 1\n",
    "    if evaluated == 2:\n",
    "        break\n"
   ]
  },
  {
   "cell_type": "markdown",
   "id": "c67bcecf-0069-4070-aa31-7f82527421da",
   "metadata": {},
   "source": [
    "## WIP"
   ]
  },
  {
   "cell_type": "code",
   "execution_count": 8,
   "id": "7d05dbc8-70ae-4dab-97ad-2f287ce8b994",
   "metadata": {},
   "outputs": [],
   "source": [
    "# f1 = f1_score(pred, truth)\n",
    "# recall = recall_score(pred, truth)\n",
    "# auc = roc_auc_score(pred, truth)"
   ]
  },
  {
   "cell_type": "code",
   "execution_count": 9,
   "id": "0666818d-f719-4097-a1c5-08a2fa4dbfc3",
   "metadata": {},
   "outputs": [],
   "source": [
    "# print(f1, recall, auc)"
   ]
  },
  {
   "cell_type": "code",
   "execution_count": 10,
   "id": "d0b04c85-1553-4845-94f4-30dfa8335fae",
   "metadata": {},
   "outputs": [],
   "source": [
    "# # Combine collected data into a list of tuples\n",
    "# data = list(zip(pred, truth, title, explanations))\n",
    "\n",
    "# # Define the file name for the CSV\n",
    "# csv_filename = 'data_output.csv'\n",
    "\n",
    "# # Save data to a CSV file\n",
    "# with open(csv_filename, 'w', newline='') as csvfile:\n",
    "#     csv_writer = csv.writer(csvfile)\n",
    "    \n",
    "#     # Write header\n",
    "#     csv_writer.writerow(['Prediction', 'Truth', 'Title', 'Explanation'])\n",
    "    \n",
    "#     # Write rows\n",
    "#     csv_writer.writerows(data)\n",
    "\n",
    "# print(f\"Data saved to {csv_filename}\")"
   ]
  }
 ],
 "metadata": {
  "kernelspec": {
   "display_name": "Python 3 (ipykernel)",
   "language": "python",
   "name": "python3"
  },
  "language_info": {
   "codemirror_mode": {
    "name": "ipython",
    "version": 3
   },
   "file_extension": ".py",
   "mimetype": "text/x-python",
   "name": "python",
   "nbconvert_exporter": "python",
   "pygments_lexer": "ipython3",
   "version": "3.9.7"
  }
 },
 "nbformat": 4,
 "nbformat_minor": 5
}

{
 "cells": [
  {
   "cell_type": "code",
   "execution_count": 1,
   "id": "9b969fc3-0b37-4214-ad85-9654b8139d9a",
   "metadata": {},
   "outputs": [],
   "source": [
    "import json\n",
    "from langchain.vectorstores import Chroma\n",
    "from langchain_community.vectorstores.chroma import Document\n",
    "from langchain.embeddings import OpenAIEmbeddings\n",
    "import chromadb\n",
    "from tqdm import tqdm\n",
    "from dotenv import load_dotenv\n",
    "import os\n",
    "\n",
    "# Load api key\n",
    "load_dotenv()\n",
    "openai_api_key = os.getenv(\"OPENAI_API_KEY\")\n",
    "embeddings = OpenAIEmbeddings(openai_api_key=openai_api_key)\n",
    "db = Chroma(persist_directory=\"./chroma_db\", embedding_function=embeddings)"
   ]
  },
  {
   "cell_type": "code",
   "execution_count": 2,
   "id": "d6890d07-fbf1-4478-9e41-bad69832a749",
   "metadata": {},
   "outputs": [],
   "source": [
    "# query = \"romantic comedy brad pitt feel-good\"\n",
    "query = \"Washington seattle vampire romcom with football\""
   ]
  },
  {
   "cell_type": "code",
   "execution_count": 3,
   "id": "a0ff631a-5c5c-4fbd-8c4d-64a22ba9c5b9",
   "metadata": {},
   "outputs": [],
   "source": [
    "# Perform a similarity search on the Chroma vector store\n",
    "results = db.similarity_search_with_score(query, k=10)\n",
    "\n",
    "# Print the results\n",
    "for result in results:\n",
    "    print(result[0].page_content[:1000], result[1], '\\n\\n')"
   ]
  },
  {
   "cell_type": "code",
   "execution_count": null,
   "id": "75b9c7c1-b884-4e31-b071-4277c57d60d9",
   "metadata": {},
   "outputs": [],
   "source": []
  }
 ],
 "metadata": {
  "kernelspec": {
   "display_name": "Python 3 (ipykernel)",
   "language": "python",
   "name": "python3"
  },
  "language_info": {
   "codemirror_mode": {
    "name": "ipython",
    "version": 3
   },
   "file_extension": ".py",
   "mimetype": "text/x-python",
   "name": "python",
   "nbconvert_exporter": "python",
   "pygments_lexer": "ipython3",
   "version": "3.9.7"
  }
 },
 "nbformat": 4,
 "nbformat_minor": 5
}

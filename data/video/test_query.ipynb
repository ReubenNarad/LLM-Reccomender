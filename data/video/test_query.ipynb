{
 "cells": [
  {
   "cell_type": "code",
   "execution_count": 1,
   "id": "9b969fc3-0b37-4214-ad85-9654b8139d9a",
   "metadata": {},
   "outputs": [],
   "source": [
    "import json\n",
    "from langchain.vectorstores import Chroma\n",
    "from langchain_community.vectorstores.chroma import Document\n",
    "from langchain.embeddings import OpenAIEmbeddings\n",
    "import chromadb\n",
    "from tqdm import tqdm\n",
    "\n",
    "# Set up the Chroma vectorstore\n",
    "openai_api_key = \"YOUR_API_KEY\"\n",
    "embeddings = OpenAIEmbeddings(openai_api_key=openai_api_key)\n",
    "db = Chroma(persist_directory=\"./chroma_db\", embedding_function=embeddings)"
   ]
  },
  {
   "cell_type": "code",
   "execution_count": 15,
   "id": "d6890d07-fbf1-4478-9e41-bad69832a749",
   "metadata": {},
   "outputs": [],
   "source": [
    "# query = \"romantic comedy brad pitt feel-good\"\n",
    "query = \"80's nostalgia new york\""
   ]
  },
  {
   "cell_type": "code",
   "execution_count": 16,
   "id": "a0ff631a-5c5c-4fbd-8c4d-64a22ba9c5b9",
   "metadata": {},
   "outputs": [
    {
     "name": "stdout",
     "output_type": "stream",
     "text": [
      "Title: Waltons the Homecoming VHS, Description: ['NEW'] 0.43876192989913415 \n",
      "\n",
      "\n",
      "Title: At Home with the Guitar VHS, Description: ['like new'] 0.4543740866577902 \n",
      "\n",
      "\n",
      "Title: Toddler Tunes VHS, Description: ['VHS Tape'] 0.46723592375811057 \n",
      "\n",
      "\n",
      "Title: Cedarmont Kids Silly Songs: 18 Wholesome Fun Songs for Kids Over 30 Minutes of Live Action Sing-A-Long Video  VHS, Description: [\"18 Music Videos for Kids: Do Your Ears Hang Low; Wise Man and the Foolish Man; Rocka My Soul; Skinny Marinky Dinky Dink; Dry Bones; Polly-Wolly-Doodle; Who Did (Swallow Jonah); Fingers, Nose and Toes; Michael Finnigan; The Bear Went Over the Mountain; Oh, You Can't Get to Heaven; S-m-i-l-e; Who Built the Ark; Bingo; I Got Shoes; John Jacob Jingleheimer Schmidt; Looby Loo; There's a Hole in the Bucket.\"] 0.46841147275115996 \n",
      "\n",
      "\n",
      "Title: Cathedral Quartet: A Reunion VHS, Description: ['Reunion [VHS]'] 0.46917079180496524 \n",
      "\n",
      "\n",
      "Title: Santa Claus Is Comin' To Town VHS, Description: [\"This is The VHS Movie: SANTA CLAUS IS COMIN TO TOWN.. This is The ORIGINAL CLASSIC FROM 1970.. \\n\\nThis 53-minute, 1970 animated film may be the most delightful of those sundry, stop-motion animated Christmas perennials that show up on television during the holidays. The clay animation production, boasting a wonderful musical score and art direction that occasionally underscores the flower-power era in which it was born, tells the story of Santa's origins, in which Kris Kringle decides to get toys into the hands of poor children in gloomy Somber town\\n\\nShips Same Day If Ordered Before 3pm Eastern Time.. Excludes Weekends.\\n\\nCheck Out My Other Items.. Updated Daily!\", \"This 53-minute, 1970 animated film may be the most delightful of those sundry, stop-motion animated Christmas perennials that show up on television during the holidays. The clay animation production, boasting a wonderful musical score and art direction that occasi 0.4693254159120285 \n",
      "\n",
      "\n",
      "Title: An American Christmas Carol VHS, Description: [\"In Depression-era New England, a miserly businessman named Benedict Slade receives a long-overdue attitude adjustment one Christmas eve when he is visited by three ghostly figures who resemble three of the people whose possessions Slade had seized to collect on unpaid loans. Assuming the roles of the Ghosts of Christmas Past, Present, and Future from Charles Dickens' classic story, the three apparitions force Slade to face the consequences of his skinflint ways, and he becomes a caring, generous, amiable man.\"] 0.4711435745800096 \n",
      "\n",
      "\n",
      "Title: The Homecoming Kids Camp Out VHS, Description: ['VHS'] 0.47115267141681916 \n",
      "\n",
      "\n",
      "Title: Live in Houston [VHS], Description: [\"Track Listings 1. Come On Everybody 2. My Strength 3. Hold On 4. Joy Cometh In The Morning 5. Nobody But Jesus 6. We Are The Ones 7. Lord, I Want To Be Holy 8. Lord, I Want To Be Holy (Reprise) 9. Medley: The Joy Of The Lord Is My Strength/Bless His Name/I'm So Glad He Lifted Me/Everything Is Alright/Living On The Top/My Soul Has Been Anchored/In The Lord/I Love The Name Of Jesus/Pass Me Not/Send It On Down\"] 0.4728146004221871 \n",
      "\n",
      "\n",
      "Title: Rejoice Africa VHS, Description: ['Praise and worship on VHS.'] 0.47965944992508425 \n",
      "\n",
      "\n"
     ]
    }
   ],
   "source": [
    "# Perform a similarity search on the Chroma vector store\n",
    "results = db.similarity_search_with_score(query, k=10)\n",
    "\n",
    "# Print the results\n",
    "for result in results:\n",
    "    print(result[0].page_content[:1000], result[1], '\\n\\n')"
   ]
  },
  {
   "cell_type": "code",
   "execution_count": null,
   "id": "75b9c7c1-b884-4e31-b071-4277c57d60d9",
   "metadata": {},
   "outputs": [],
   "source": []
  }
 ],
 "metadata": {
  "kernelspec": {
   "display_name": "Python 3 (ipykernel)",
   "language": "python",
   "name": "python3"
  },
  "language_info": {
   "codemirror_mode": {
    "name": "ipython",
    "version": 3
   },
   "file_extension": ".py",
   "mimetype": "text/x-python",
   "name": "python",
   "nbconvert_exporter": "python",
   "pygments_lexer": "ipython3",
   "version": "3.9.7"
  }
 },
 "nbformat": 4,
 "nbformat_minor": 5
}
